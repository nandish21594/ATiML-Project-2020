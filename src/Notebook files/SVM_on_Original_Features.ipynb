{
  "nbformat": 4,
  "nbformat_minor": 0,
  "metadata": {
    "colab": {
      "name": "SVM_AND_RandomForest_on_Original_Features.ipynb",
      "provenance": []
    },
    "kernelspec": {
      "name": "python3",
      "display_name": "Python 3"
    }
  },
  "cells": [
    {
      "cell_type": "code",
      "metadata": {
        "id": "z1YLWE1MtOSN",
        "colab_type": "code",
        "colab": {
          "base_uri": "https://localhost:8080/",
          "height": 125
        },
        "outputId": "b50a1e3f-cc2a-41a2-bce5-eb579a508181"
      },
      "source": [
        "from google.colab import drive\n",
        "drive.mount('/content/drive')"
      ],
      "execution_count": null,
      "outputs": [
        {
          "output_type": "stream",
          "text": [
            "Go to this URL in a browser: https://accounts.google.com/o/oauth2/auth?client_id=947318989803-6bn6qk8qdgf4n4g3pfee6491hc0brc4i.apps.googleusercontent.com&redirect_uri=urn%3aietf%3awg%3aoauth%3a2.0%3aoob&response_type=code&scope=email%20https%3a%2f%2fwww.googleapis.com%2fauth%2fdocs.test%20https%3a%2f%2fwww.googleapis.com%2fauth%2fdrive%20https%3a%2f%2fwww.googleapis.com%2fauth%2fdrive.photos.readonly%20https%3a%2f%2fwww.googleapis.com%2fauth%2fpeopleapi.readonly\n",
            "\n",
            "Enter your authorization code:\n",
            "··········\n",
            "Mounted at /content/drive\n"
          ],
          "name": "stdout"
        }
      ]
    },
    {
      "cell_type": "code",
      "metadata": {
        "id": "1EYMM79CtTfz",
        "colab_type": "code",
        "colab": {}
      },
      "source": [
        "import os \n",
        "os.chdir(\"/content/drive/My Drive/Colab Notebooks/ATML Project/Gutenberg_English_Fiction_1k/NEW/\")"
      ],
      "execution_count": null,
      "outputs": []
    },
    {
      "cell_type": "code",
      "metadata": {
        "id": "2VD2sn0NtdMU",
        "colab_type": "code",
        "colab": {
          "base_uri": "https://localhost:8080/",
          "height": 107
        },
        "outputId": "009b57b0-2a6d-4194-b258-abe1f0f0d413"
      },
      "source": [
        "import re\n",
        "import pandas as pd\n",
        "import nltk\n",
        "from nltk.corpus import stopwords\n",
        "from nltk.tokenize import word_tokenize\n",
        "from nltk import tokenize\n",
        "import numpy as np\n",
        "from sklearn import metrics\n",
        "from sklearn.preprocessing import LabelEncoder\n",
        "from nltk.sentiment.vader import SentimentIntensityAnalyzer\n",
        "from sklearn.model_selection import train_test_split\n",
        "from sklearn.naive_bayes import MultinomialNB\n",
        "from nltk.util import ngrams\n",
        "import gensim\n",
        "import numpy as np\n",
        "import pandas as pd\n",
        "import matplotlib.pyplot as plt\n",
        "import seaborn as sns\n",
        "import nltk\n",
        "import os\n",
        "import codecs\n",
        "import re\n",
        "import string\n",
        "from nltk.tokenize import RegexpTokenizer\n",
        "from nltk.corpus import stopwords\n",
        "from nltk.stem import WordNetLemmatizer\n",
        "from sklearn.preprocessing import LabelEncoder\n",
        "from nltk.tokenize import word_tokenize\n",
        "from nltk.util import ngrams\n",
        "from collections import Counter\n",
        "from collections import OrderedDict\n",
        "# import nlp\n",
        "import spacy\n",
        "import en_core_web_sm\n",
        "from datetime import datetime\n",
        "from sklearn.model_selection import GridSearchCV\n",
        "import sklearn.utils as utils\n",
        "from sklearn.svm import SVC\n",
        "from sklearn import preprocessing\n",
        "\n",
        "nlp = en_core_web_sm.load()\n",
        "nlp.max_length = 3050000"
      ],
      "execution_count": null,
      "outputs": [
        {
          "output_type": "stream",
          "text": [
            "/usr/local/lib/python3.6/dist-packages/nltk/twitter/__init__.py:20: UserWarning: The twython library has not been installed. Some functionality from the twitter package will not be available.\n",
            "  warnings.warn(\"The twython library has not been installed. \"\n",
            "/usr/local/lib/python3.6/dist-packages/statsmodels/tools/_testing.py:19: FutureWarning: pandas.util.testing is deprecated. Use the functions in the public API at pandas.testing instead.\n",
            "  import pandas.util.testing as tm\n"
          ],
          "name": "stderr"
        }
      ]
    },
    {
      "cell_type": "markdown",
      "metadata": {
        "id": "r2W2YjJIt_KQ",
        "colab_type": "text"
      },
      "source": [
        "\n",
        "#Importing original features extracted"
      ]
    },
    {
      "cell_type": "code",
      "metadata": {
        "id": "37EETsCjthY8",
        "colab_type": "code",
        "colab": {
          "base_uri": "https://localhost:8080/",
          "height": 406
        },
        "outputId": "4dc6b650-c262-45bc-853f-6323bf27a8de"
      },
      "source": [
        "data = pd.read_csv(\"/content/drive/My Drive/Colab Notebooks/ATML Project/Gutenberg_English_Fiction_1k/final_features_without_null_values.csv\", encoding=\"ISO-8859-1\", delimiter=\",\")\n",
        "data"
      ],
      "execution_count": null,
      "outputs": [
        {
          "output_type": "execute_result",
          "data": {
            "text/html": [
              "<div>\n",
              "<style scoped>\n",
              "    .dataframe tbody tr th:only-of-type {\n",
              "        vertical-align: middle;\n",
              "    }\n",
              "\n",
              "    .dataframe tbody tr th {\n",
              "        vertical-align: top;\n",
              "    }\n",
              "\n",
              "    .dataframe thead th {\n",
              "        text-align: right;\n",
              "    }\n",
              "</style>\n",
              "<table border=\"1\" class=\"dataframe\">\n",
              "  <thead>\n",
              "    <tr style=\"text-align: right;\">\n",
              "      <th></th>\n",
              "      <th>postive</th>\n",
              "      <th>neutral</th>\n",
              "      <th>negative</th>\n",
              "      <th>sentence_length</th>\n",
              "      <th>TTR</th>\n",
              "      <th>person_count</th>\n",
              "      <th>she_pronoun</th>\n",
              "      <th>he_pronoun</th>\n",
              "      <th>ease_of_readability</th>\n",
              "      <th>class</th>\n",
              "    </tr>\n",
              "  </thead>\n",
              "  <tbody>\n",
              "    <tr>\n",
              "      <th>0</th>\n",
              "      <td>0.121</td>\n",
              "      <td>0.777</td>\n",
              "      <td>0.102</td>\n",
              "      <td>5048</td>\n",
              "      <td>0.858659</td>\n",
              "      <td>104</td>\n",
              "      <td>68</td>\n",
              "      <td>309</td>\n",
              "      <td>83.40</td>\n",
              "      <td>2</td>\n",
              "    </tr>\n",
              "    <tr>\n",
              "      <th>1</th>\n",
              "      <td>0.154</td>\n",
              "      <td>0.765</td>\n",
              "      <td>0.081</td>\n",
              "      <td>911</td>\n",
              "      <td>0.866100</td>\n",
              "      <td>17</td>\n",
              "      <td>54</td>\n",
              "      <td>127</td>\n",
              "      <td>78.15</td>\n",
              "      <td>5</td>\n",
              "    </tr>\n",
              "    <tr>\n",
              "      <th>2</th>\n",
              "      <td>0.170</td>\n",
              "      <td>0.738</td>\n",
              "      <td>0.092</td>\n",
              "      <td>8891</td>\n",
              "      <td>0.864052</td>\n",
              "      <td>201</td>\n",
              "      <td>313</td>\n",
              "      <td>392</td>\n",
              "      <td>90.04</td>\n",
              "      <td>5</td>\n",
              "    </tr>\n",
              "    <tr>\n",
              "      <th>3</th>\n",
              "      <td>0.113</td>\n",
              "      <td>0.803</td>\n",
              "      <td>0.085</td>\n",
              "      <td>8798</td>\n",
              "      <td>0.876325</td>\n",
              "      <td>280</td>\n",
              "      <td>162</td>\n",
              "      <td>408</td>\n",
              "      <td>94.47</td>\n",
              "      <td>8</td>\n",
              "    </tr>\n",
              "    <tr>\n",
              "      <th>4</th>\n",
              "      <td>0.172</td>\n",
              "      <td>0.703</td>\n",
              "      <td>0.125</td>\n",
              "      <td>1065</td>\n",
              "      <td>0.864347</td>\n",
              "      <td>19</td>\n",
              "      <td>75</td>\n",
              "      <td>98</td>\n",
              "      <td>79.83</td>\n",
              "      <td>5</td>\n",
              "    </tr>\n",
              "    <tr>\n",
              "      <th>...</th>\n",
              "      <td>...</td>\n",
              "      <td>...</td>\n",
              "      <td>...</td>\n",
              "      <td>...</td>\n",
              "      <td>...</td>\n",
              "      <td>...</td>\n",
              "      <td>...</td>\n",
              "      <td>...</td>\n",
              "      <td>...</td>\n",
              "      <td>...</td>\n",
              "    </tr>\n",
              "    <tr>\n",
              "      <th>989</th>\n",
              "      <td>0.152</td>\n",
              "      <td>0.763</td>\n",
              "      <td>0.085</td>\n",
              "      <td>19591</td>\n",
              "      <td>0.865487</td>\n",
              "      <td>480</td>\n",
              "      <td>456</td>\n",
              "      <td>572</td>\n",
              "      <td>79.90</td>\n",
              "      <td>5</td>\n",
              "    </tr>\n",
              "    <tr>\n",
              "      <th>990</th>\n",
              "      <td>0.133</td>\n",
              "      <td>0.780</td>\n",
              "      <td>0.087</td>\n",
              "      <td>6036</td>\n",
              "      <td>0.877662</td>\n",
              "      <td>235</td>\n",
              "      <td>197</td>\n",
              "      <td>322</td>\n",
              "      <td>80.37</td>\n",
              "      <td>5</td>\n",
              "    </tr>\n",
              "    <tr>\n",
              "      <th>991</th>\n",
              "      <td>0.112</td>\n",
              "      <td>0.800</td>\n",
              "      <td>0.088</td>\n",
              "      <td>5498</td>\n",
              "      <td>0.860010</td>\n",
              "      <td>193</td>\n",
              "      <td>86</td>\n",
              "      <td>365</td>\n",
              "      <td>78.89</td>\n",
              "      <td>2</td>\n",
              "    </tr>\n",
              "    <tr>\n",
              "      <th>992</th>\n",
              "      <td>0.134</td>\n",
              "      <td>0.752</td>\n",
              "      <td>0.114</td>\n",
              "      <td>5370</td>\n",
              "      <td>0.873383</td>\n",
              "      <td>124</td>\n",
              "      <td>145</td>\n",
              "      <td>219</td>\n",
              "      <td>84.28</td>\n",
              "      <td>2</td>\n",
              "    </tr>\n",
              "    <tr>\n",
              "      <th>993</th>\n",
              "      <td>0.106</td>\n",
              "      <td>0.803</td>\n",
              "      <td>0.091</td>\n",
              "      <td>964</td>\n",
              "      <td>0.858335</td>\n",
              "      <td>49</td>\n",
              "      <td>38</td>\n",
              "      <td>73</td>\n",
              "      <td>75.43</td>\n",
              "      <td>5</td>\n",
              "    </tr>\n",
              "  </tbody>\n",
              "</table>\n",
              "<p>994 rows × 10 columns</p>\n",
              "</div>"
            ],
            "text/plain": [
              "     postive  neutral  negative  ...  he_pronoun  ease_of_readability  class\n",
              "0      0.121    0.777     0.102  ...         309                83.40      2\n",
              "1      0.154    0.765     0.081  ...         127                78.15      5\n",
              "2      0.170    0.738     0.092  ...         392                90.04      5\n",
              "3      0.113    0.803     0.085  ...         408                94.47      8\n",
              "4      0.172    0.703     0.125  ...          98                79.83      5\n",
              "..       ...      ...       ...  ...         ...                  ...    ...\n",
              "989    0.152    0.763     0.085  ...         572                79.90      5\n",
              "990    0.133    0.780     0.087  ...         322                80.37      5\n",
              "991    0.112    0.800     0.088  ...         365                78.89      2\n",
              "992    0.134    0.752     0.114  ...         219                84.28      2\n",
              "993    0.106    0.803     0.091  ...          73                75.43      5\n",
              "\n",
              "[994 rows x 10 columns]"
            ]
          },
          "metadata": {
            "tags": []
          },
          "execution_count": 5
        }
      ]
    },
    {
      "cell_type": "markdown",
      "metadata": {
        "id": "z2rlt7tfuLzT",
        "colab_type": "text"
      },
      "source": [
        "##Splitting Training and Test data using Stratified Sampling"
      ]
    },
    {
      "cell_type": "code",
      "metadata": {
        "id": "TlTyDcrgtrgG",
        "colab_type": "code",
        "colab": {
          "base_uri": "https://localhost:8080/",
          "height": 87
        },
        "outputId": "62331c41-8c18-4941-c056-f58c7c146461"
      },
      "source": [
        "x_true = data.drop(['class'], axis=1)\n",
        "y_true = data[['class']]\n",
        "x_train, x_test, y_train, y_test = train_test_split(x_true, y_true, stratify = y_true, test_size = 0.2)\n",
        "print(\"Number of samples in training data :\", x_train.shape[0])\n",
        "print(\"Number of samples in test data :\", x_test.shape[0])\n",
        "\n",
        "# Checking total no. of data points for each class in train and test data\n",
        "\n",
        "unique, counts = np.unique(y_train, return_counts=True)\n",
        "print(dict(zip(unique, counts)))\n",
        "\n",
        "unique1, counts1 = np.unique(y_test, return_counts=True)\n",
        "print(dict(zip(unique1, counts1)))"
      ],
      "execution_count": null,
      "outputs": [
        {
          "output_type": "stream",
          "text": [
            "Number of samples in training data : 795\n",
            "Number of samples in test data : 199\n",
            "{0: 2, 1: 4, 2: 89, 3: 5, 4: 5, 5: 633, 6: 14, 7: 29, 8: 14}\n",
            "{1: 1, 2: 22, 3: 1, 4: 1, 5: 159, 6: 4, 7: 7, 8: 4}\n"
          ],
          "name": "stdout"
        }
      ]
    },
    {
      "cell_type": "markdown",
      "metadata": {
        "id": "QRzKK3kPug4E",
        "colab_type": "text"
      },
      "source": [
        "##Feature Scaling"
      ]
    },
    {
      "cell_type": "code",
      "metadata": {
        "id": "ctGPZtxzt3r5",
        "colab_type": "code",
        "colab": {
          "base_uri": "https://localhost:8080/",
          "height": 247
        },
        "outputId": "f85ab755-4af2-46b1-ea32-48874e96fab5"
      },
      "source": [
        "from sklearn.preprocessing import StandardScaler\n",
        "sc = StandardScaler()\n",
        "x_train = sc.fit_transform(x_train)\n",
        "x_test = sc.transform(x_test)\n",
        "print(x_test)"
      ],
      "execution_count": null,
      "outputs": [
        {
          "output_type": "stream",
          "text": [
            "[[ 0.73910583 -1.40506348  1.45043776 ...  2.01610586  0.54810638\n",
            "   0.28456303]\n",
            " [-0.02300719 -0.05432465  0.12879938 ... -0.99470761 -0.41228008\n",
            "  -1.080144  ]\n",
            " [-0.47130896 -0.51641951  1.57630809 ... -0.40210305  0.40856305\n",
            "  -0.43180404]\n",
            " ...\n",
            " [-0.82995038  1.43859721 -1.38164449 ... -0.89912623  0.11305953\n",
            "   0.027726  ]\n",
            " [ 1.05291707 -1.12069741  0.50641035 ...  1.91096634  0.62198227\n",
            "   0.16100359]\n",
            " [-0.47130896  0.7632278  -0.68935772 ...  0.78310606  0.54810638\n",
            "   0.22347747]]\n"
          ],
          "name": "stdout"
        }
      ]
    },
    {
      "cell_type": "markdown",
      "metadata": {
        "id": "ILIDMSeVvWM5",
        "colab_type": "text"
      },
      "source": [
        "##Grid Search"
      ]
    },
    {
      "cell_type": "code",
      "metadata": {
        "id": "GEQIblNdvW7T",
        "colab_type": "code",
        "colab": {
          "base_uri": "https://localhost:8080/",
          "height": 283
        },
        "outputId": "3c226791-e966-4d83-f316-649b91527326"
      },
      "source": [
        "from sklearn.model_selection import GridSearchCV\n",
        "import sklearn.utils as utils\n",
        "from sklearn.svm import SVC\n",
        "params_grid = [{'kernel': ['rbf'], 'gamma': [1e-3, 1e-4],\n",
        "                     'C': [1, 10, 100, 1000]},\n",
        "                    {'kernel': ['linear'], 'C': [1, 10, 100, 1000]}]\n",
        "# Performing CV to tune parameters for best SVM fit \n",
        "y = utils.validation.column_or_1d(y_train, warn=False)\n",
        "svm_model = GridSearchCV(SVC(), params_grid, cv=5)\n",
        "svm_model.fit(x_train, y)"
      ],
      "execution_count": null,
      "outputs": [
        {
          "output_type": "stream",
          "text": [
            "/usr/local/lib/python3.6/dist-packages/sklearn/model_selection/_split.py:667: UserWarning: The least populated class in y has only 2 members, which is less than n_splits=5.\n",
            "  % (min_groups, self.n_splits)), UserWarning)\n"
          ],
          "name": "stderr"
        },
        {
          "output_type": "execute_result",
          "data": {
            "text/plain": [
              "GridSearchCV(cv=5, error_score=nan,\n",
              "             estimator=SVC(C=1.0, break_ties=False, cache_size=200,\n",
              "                           class_weight=None, coef0=0.0,\n",
              "                           decision_function_shape='ovr', degree=3,\n",
              "                           gamma='scale', kernel='rbf', max_iter=-1,\n",
              "                           probability=False, random_state=None, shrinking=True,\n",
              "                           tol=0.001, verbose=False),\n",
              "             iid='deprecated', n_jobs=None,\n",
              "             param_grid=[{'C': [1, 10, 100, 1000], 'gamma': [0.001, 0.0001],\n",
              "                          'kernel': ['rbf']},\n",
              "                         {'C': [1, 10, 100, 1000], 'kernel': ['linear']}],\n",
              "             pre_dispatch='2*n_jobs', refit=True, return_train_score=False,\n",
              "             scoring=None, verbose=0)"
            ]
          },
          "metadata": {
            "tags": []
          },
          "execution_count": 13
        }
      ]
    },
    {
      "cell_type": "code",
      "metadata": {
        "id": "NMakIhiWu-2C",
        "colab_type": "code",
        "colab": {
          "base_uri": "https://localhost:8080/",
          "height": 105
        },
        "outputId": "7da69d6a-a456-4f2a-d4e9-900b4faa9392"
      },
      "source": [
        "# reference : https://github.com/krishnaik06/GRIDSearchCV/blob/master/Gridsearchcv.ipynb\n",
        "# View the accuracy score\n",
        "print('Best score for training data:', svm_model.best_score_,\"\\n\") \n",
        "# View the best parameters for the model found using grid search\n",
        "print('Best C:',svm_model.best_estimator_.C) \n",
        "print('Best Kernel:',svm_model.best_estimator_.kernel)\n",
        "print('Best Gamma:',svm_model.best_estimator_.gamma)\n",
        "\n",
        "final_model = svm_model.best_estimator_\n",
        "y_pred = final_model.predict(x_test)"
      ],
      "execution_count": null,
      "outputs": [
        {
          "output_type": "stream",
          "text": [
            "Best score for training data: 0.7962264150943398 \n",
            "\n",
            "Best C: 1\n",
            "Best Kernel: rbf\n",
            "Best Gamma: 0.001\n"
          ],
          "name": "stdout"
        }
      ]
    },
    {
      "cell_type": "code",
      "metadata": {
        "id": "T_JWs9B0wg2L",
        "colab_type": "code",
        "colab": {
          "base_uri": "https://localhost:8080/",
          "height": 303
        },
        "outputId": "27fe8e94-663c-46d1-ccfd-df0a55095fe9"
      },
      "source": [
        "print('\\n *******************Evaluation Metrics (average = weighted) for test data original***************************** \\n ')\n",
        "\n",
        "print('F1 Score: ', metrics.f1_score(y_test, y_pred, average='weighted'))\n",
        "print('Precision Score: ', metrics.precision_score(y_test, y_pred, average='weighted'))\n",
        "print('Recall Score: ', metrics.recall_score(y_test, y_pred, average='weighted'))\n",
        "print('Accuracy: ', metrics.accuracy_score(y_test, y_pred))\n",
        "\n",
        "print('\\n *******************Evaluation Metrics (average = macro) for test data original***************************** \\n ')\n",
        "\n",
        "print('F1 Score: ', metrics.f1_score(y_test, y_pred, average='macro'))\n",
        "print('Precision Score: ', metrics.precision_score(y_test, y_pred, average='macro'))\n",
        "print('Recall Score: ', metrics.recall_score(y_test, y_pred, average='macro'))"
      ],
      "execution_count": null,
      "outputs": [
        {
          "output_type": "stream",
          "text": [
            "\n",
            " *******************Evaluation Metrics (average = weighted) for test data original***************************** \n",
            " \n",
            "F1 Score:  0.7097217933241626\n",
            "Precision Score:  0.6383929698744981\n",
            "Recall Score:  0.7989949748743719\n",
            "Accuracy:  0.7989949748743719\n",
            "\n",
            " *******************Evaluation Metrics (average = macro) for test data original***************************** \n",
            " \n",
            "F1 Score:  0.11103351955307263\n",
            "Precision Score:  0.09987437185929648\n",
            "Recall Score:  0.125\n"
          ],
          "name": "stdout"
        },
        {
          "output_type": "stream",
          "text": [
            "/usr/local/lib/python3.6/dist-packages/sklearn/metrics/_classification.py:1272: UndefinedMetricWarning: Precision is ill-defined and being set to 0.0 in labels with no predicted samples. Use `zero_division` parameter to control this behavior.\n",
            "  _warn_prf(average, modifier, msg_start, len(result))\n"
          ],
          "name": "stderr"
        }
      ]
    },
    {
      "cell_type": "markdown",
      "metadata": {
        "id": "BwcQPyn1z1VC",
        "colab_type": "text"
      },
      "source": [
        ""
      ]
    }
  ]
}